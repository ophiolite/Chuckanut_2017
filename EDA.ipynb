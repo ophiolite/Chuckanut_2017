{
 "cells": [
  {
   "cell_type": "code",
   "execution_count": 1,
   "metadata": {
    "collapsed": true
   },
   "outputs": [],
   "source": [
    "import pandas as pd"
   ]
  },
  {
   "cell_type": "code",
   "execution_count": 2,
   "metadata": {
    "collapsed": true
   },
   "outputs": [],
   "source": [
    "results = pd.read_csv('Chuckanut_17_Results.csv')"
   ]
  },
  {
   "cell_type": "code",
   "execution_count": 4,
   "metadata": {
    "collapsed": false
   },
   "outputs": [
    {
     "name": "stdout",
     "output_type": "stream",
     "text": [
      "<class 'pandas.core.frame.DataFrame'>\n",
      "RangeIndex: 439 entries, 0 to 438\n",
      "Data columns (total 45 columns):\n",
      "Pos                    439 non-null int64\n",
      "Race No                439 non-null int64\n",
      "Fav                    0 non-null float64\n",
      "Share                  0 non-null float64\n",
      "Print                  0 non-null float64\n",
      "Name                   439 non-null object\n",
      "Time                   439 non-null object\n",
      "Category               439 non-null object\n",
      "Cat Pos                439 non-null int64\n",
      "Gender                 439 non-null object\n",
      "Gen Pos                439 non-null int64\n",
      "Pace                   412 non-null object\n",
      "TOD                    412 non-null object\n",
      "Start                  439 non-null object\n",
      "O/Pos                  439 non-null int64\n",
      "C/Pos                  439 non-null int64\n",
      "G/Pos                  439 non-null int64\n",
      "Aid Station 12.99      439 non-null object\n",
      "O/Pos.1                439 non-null int64\n",
      "C/Pos.1                439 non-null int64\n",
      "G/Pos.1                439 non-null int64\n",
      "Aid Station 20.32      439 non-null object\n",
      "O/Pos.2                439 non-null int64\n",
      "C/Pos.2                439 non-null int64\n",
      "G/Pos.2                439 non-null int64\n",
      "Finish 31.32           439 non-null object\n",
      "O/Pos.3                439 non-null int64\n",
      "C/Pos.3                439 non-null int64\n",
      "G/Pos.3                439 non-null int64\n",
      "Start.1                439 non-null object\n",
      "O/Pos.4                439 non-null int64\n",
      "C/Pos.4                439 non-null int64\n",
      "G/Pos.4                439 non-null int64\n",
      "Aid Station 12.99.1    439 non-null object\n",
      "O/Pos.5                439 non-null int64\n",
      "C/Pos.5                439 non-null int64\n",
      "G/Pos.5                439 non-null int64\n",
      "Aid Station 20.32.1    439 non-null object\n",
      "O/Pos.6                439 non-null int64\n",
      "C/Pos.6                439 non-null int64\n",
      "G/Pos.6                439 non-null int64\n",
      "Finish 31.32.1         439 non-null object\n",
      "O/Pos.7                439 non-null int64\n",
      "C/Pos.7                439 non-null int64\n",
      "G/Pos.7                439 non-null int64\n",
      "dtypes: float64(3), int64(28), object(14)\n",
      "memory usage: 154.4+ KB\n"
     ]
    }
   ],
   "source": [
    "results.info()"
   ]
  },
  {
   "cell_type": "code",
   "execution_count": 10,
   "metadata": {
    "collapsed": false
   },
   "outputs": [],
   "source": [
    "first_pass = results.drop(['Fav', 'Share', 'Print', 'TOD', 'Pace', 'Start', 'Race No', 'Pos'], axis=1)"
   ]
  },
  {
   "cell_type": "code",
   "execution_count": null,
   "metadata": {
    "collapsed": true
   },
   "outputs": [],
   "source": []
  }
 ],
 "metadata": {
  "kernelspec": {
   "display_name": "Python 2",
   "language": "python",
   "name": "python2"
  },
  "language_info": {
   "codemirror_mode": {
    "name": "ipython",
    "version": 2
   },
   "file_extension": ".py",
   "mimetype": "text/x-python",
   "name": "python",
   "nbconvert_exporter": "python",
   "pygments_lexer": "ipython2",
   "version": "2.7.12"
  }
 },
 "nbformat": 4,
 "nbformat_minor": 0
}
